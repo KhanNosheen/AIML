{
 "cells": [
  {
   "cell_type": "markdown",
   "id": "672614fc",
   "metadata": {},
   "source": [
    "# Data Inconsistencies/Abnormalities/Anomalies"
   ]
  },
  {
   "cell_type": "markdown",
   "id": "56de41c7",
   "metadata": {},
   "source": [
    "1. Duplicate Records\\\n",
    "Multiple entries for the same entity, which can skew analysis and reporting.\n",
    "2. Inconsistent Formats\\\n",
    "Variations in data formats, such as dates (e.g., MM/DD/YYYY vs. DD/MM/YYYY) or inconsistent use of uppercase and lowercase letters.\n",
    "3. Contradictory Values\\\n",
    "Conflicting data points within the same record, such as a person's age being listed as 30 in one field and 40 in another.\n",
    "4. Missing Values\\\n",
    "Absence of data in expected fields, which can lead to incomplete analyses.\n",
    "5. Outliers\\\n",
    "Values that deviate significantly from the expected range, which may represent errors or genuine anomalies.\n",
    "6. Inconsistent Units\\\n",
    "Different measurement units used for the same variable, such as height in centimeters in one record and inches in another.\n",
    "7. Incorrect Data Types\\\n",
    "Data stored in the wrong format, such as numeric values stored as text, which complicates analysis.\n",
    "8. Ambiguous Data\\\n",
    "Data that lacks clarity or definition, making it difficult to interpret (e.g., \"N/A\" used for multiple meanings).\n",
    "9. Data Integration Issues\\\n",
    "Discrepancies arising from merging datasets from different sources, leading to inconsistencies in variable definitions or scales.\n",
    "10.  Historical Inconsistencies\\\n",
    "Changes in data collection methods or definitions over time, causing inconsistencies in longitudinal data.\n",
    "11. Inconsistent naming convention\\\n",
    "It refers to the use of varying formats or styles for naming variables or entities within a dataset, leading to confusion and potential errors in data analysis.\n",
    "12. Inconsistent typo convention\\\n",
    "It refers to variations in spelling or typographical errors across a dataset that create discrepancies and can hinder data analysis and interpretation.\n",
    "\n"
   ]
  },
  {
   "cell_type": "code",
   "execution_count": 77,
   "id": "95843d0d",
   "metadata": {},
   "outputs": [],
   "source": [
    "import pandas as pd"
   ]
  },
  {
   "cell_type": "code",
   "execution_count": 78,
   "id": "63de1998",
   "metadata": {},
   "outputs": [],
   "source": [
    "# Create a DataFrame\n",
    "data = {'Date': ['2021-12-01', '01-12-2022', '2022/12/01', '12-01-2021'],\n",
    " 'Country': ['U.S.A', 'USA', 'America', 'United States'],\n",
    "  'Name': ['Aammar', 'Hamza', 'ammar', 'Hazma'],\n",
    "   'Sales_2020': [100, 200, None, 200],\n",
    "   'Sales_2021': [150, None, 250, 300]}\n",
    "\n",
    "# Convert to DataFrame\n",
    "df = pd.DataFrame(data)"
   ]
  },
  {
   "cell_type": "code",
   "execution_count": 79,
   "id": "1d12aa13",
   "metadata": {},
   "outputs": [
    {
     "data": {
      "text/html": [
       "<div>\n",
       "<style scoped>\n",
       "    .dataframe tbody tr th:only-of-type {\n",
       "        vertical-align: middle;\n",
       "    }\n",
       "\n",
       "    .dataframe tbody tr th {\n",
       "        vertical-align: top;\n",
       "    }\n",
       "\n",
       "    .dataframe thead th {\n",
       "        text-align: right;\n",
       "    }\n",
       "</style>\n",
       "<table border=\"1\" class=\"dataframe\">\n",
       "  <thead>\n",
       "    <tr style=\"text-align: right;\">\n",
       "      <th></th>\n",
       "      <th>Date</th>\n",
       "      <th>Country</th>\n",
       "      <th>Name</th>\n",
       "      <th>Sales_2020</th>\n",
       "      <th>Sales_2021</th>\n",
       "    </tr>\n",
       "  </thead>\n",
       "  <tbody>\n",
       "    <tr>\n",
       "      <th>0</th>\n",
       "      <td>2021-12-01</td>\n",
       "      <td>U.S.A</td>\n",
       "      <td>Aammar</td>\n",
       "      <td>100.0</td>\n",
       "      <td>150.0</td>\n",
       "    </tr>\n",
       "    <tr>\n",
       "      <th>1</th>\n",
       "      <td>01-12-2022</td>\n",
       "      <td>USA</td>\n",
       "      <td>Hamza</td>\n",
       "      <td>200.0</td>\n",
       "      <td>NaN</td>\n",
       "    </tr>\n",
       "    <tr>\n",
       "      <th>2</th>\n",
       "      <td>2022/12/01</td>\n",
       "      <td>America</td>\n",
       "      <td>ammar</td>\n",
       "      <td>NaN</td>\n",
       "      <td>250.0</td>\n",
       "    </tr>\n",
       "    <tr>\n",
       "      <th>3</th>\n",
       "      <td>12-01-2021</td>\n",
       "      <td>United States</td>\n",
       "      <td>Hazma</td>\n",
       "      <td>200.0</td>\n",
       "      <td>300.0</td>\n",
       "    </tr>\n",
       "  </tbody>\n",
       "</table>\n",
       "</div>"
      ],
      "text/plain": [
       "         Date        Country    Name  Sales_2020  Sales_2021\n",
       "0  2021-12-01          U.S.A  Aammar       100.0       150.0\n",
       "1  01-12-2022            USA   Hamza       200.0         NaN\n",
       "2  2022/12/01        America   ammar         NaN       250.0\n",
       "3  12-01-2021  United States   Hazma       200.0       300.0"
      ]
     },
     "execution_count": 79,
     "metadata": {},
     "output_type": "execute_result"
    }
   ],
   "source": [
    "df.head()"
   ]
  },
  {
   "cell_type": "code",
   "execution_count": 80,
   "id": "34e1fb5c",
   "metadata": {},
   "outputs": [
    {
     "data": {
      "text/html": [
       "<div>\n",
       "<style scoped>\n",
       "    .dataframe tbody tr th:only-of-type {\n",
       "        vertical-align: middle;\n",
       "    }\n",
       "\n",
       "    .dataframe tbody tr th {\n",
       "        vertical-align: top;\n",
       "    }\n",
       "\n",
       "    .dataframe thead th {\n",
       "        text-align: right;\n",
       "    }\n",
       "</style>\n",
       "<table border=\"1\" class=\"dataframe\">\n",
       "  <thead>\n",
       "    <tr style=\"text-align: right;\">\n",
       "      <th></th>\n",
       "      <th>Date</th>\n",
       "      <th>Country</th>\n",
       "      <th>Name</th>\n",
       "      <th>Sales_2020</th>\n",
       "      <th>Sales_2021</th>\n",
       "    </tr>\n",
       "  </thead>\n",
       "  <tbody>\n",
       "    <tr>\n",
       "      <th>0</th>\n",
       "      <td>2021-12-01</td>\n",
       "      <td>U.S.A</td>\n",
       "      <td>Aammar</td>\n",
       "      <td>100.0</td>\n",
       "      <td>150.0</td>\n",
       "    </tr>\n",
       "    <tr>\n",
       "      <th>1</th>\n",
       "      <td>NaN</td>\n",
       "      <td>USA</td>\n",
       "      <td>Hamza</td>\n",
       "      <td>200.0</td>\n",
       "      <td>NaN</td>\n",
       "    </tr>\n",
       "    <tr>\n",
       "      <th>2</th>\n",
       "      <td>NaN</td>\n",
       "      <td>America</td>\n",
       "      <td>ammar</td>\n",
       "      <td>NaN</td>\n",
       "      <td>250.0</td>\n",
       "    </tr>\n",
       "    <tr>\n",
       "      <th>3</th>\n",
       "      <td>NaN</td>\n",
       "      <td>United States</td>\n",
       "      <td>Hazma</td>\n",
       "      <td>200.0</td>\n",
       "      <td>300.0</td>\n",
       "    </tr>\n",
       "  </tbody>\n",
       "</table>\n",
       "</div>"
      ],
      "text/plain": [
       "         Date        Country    Name  Sales_2020  Sales_2021\n",
       "0  2021-12-01          U.S.A  Aammar       100.0       150.0\n",
       "1         NaN            USA   Hamza       200.0         NaN\n",
       "2         NaN        America   ammar         NaN       250.0\n",
       "3         NaN  United States   Hazma       200.0       300.0"
      ]
     },
     "execution_count": 80,
     "metadata": {},
     "output_type": "execute_result"
    }
   ],
   "source": [
    "# Standardizing the date format\n",
    "df['Date'] = pd.to_datetime(df['Date'], errors='coerce').dt.strftime('%Y-%m-%d')\n",
    "df.head()"
   ]
  },
  {
   "cell_type": "markdown",
   "id": "a89b740c",
   "metadata": {},
   "source": [
    "For Imputation of `Date` column, the best method is `forward fill`\\\n",
    "<b>Best for:</b> Time series data where the last known date is likely to be a good estimate for subsequent missing dates.\\\n",
    "<b>Consideration:</b> Assumes that values do not change drastically over time. "
   ]
  },
  {
   "cell_type": "code",
   "execution_count": 81,
   "id": "103f53a0",
   "metadata": {},
   "outputs": [
    {
     "name": "stdout",
     "output_type": "stream",
     "text": [
      "\n",
      "After Forward Fill:\n",
      "         Date        Country    Name  Sales_2020  Sales_2021\n",
      "0  2021-12-01          U.S.A  Aammar       100.0       150.0\n",
      "1  2021-12-01            USA   Hamza       200.0         NaN\n",
      "2  2021-12-01        America   ammar         NaN       250.0\n",
      "3  2021-12-01  United States   Hazma       200.0       300.0\n"
     ]
    }
   ],
   "source": [
    "# 1. Forward Fill\n",
    "# df_ffill = df.copy()\n",
    "df['Date'] = df['Date'].ffill()\n",
    "print(\"\\nAfter Forward Fill:\")\n",
    "print(df)"
   ]
  },
  {
   "cell_type": "code",
   "execution_count": 82,
   "id": "930b1424",
   "metadata": {},
   "outputs": [
    {
     "data": {
      "text/html": [
       "<div>\n",
       "<style scoped>\n",
       "    .dataframe tbody tr th:only-of-type {\n",
       "        vertical-align: middle;\n",
       "    }\n",
       "\n",
       "    .dataframe tbody tr th {\n",
       "        vertical-align: top;\n",
       "    }\n",
       "\n",
       "    .dataframe thead th {\n",
       "        text-align: right;\n",
       "    }\n",
       "</style>\n",
       "<table border=\"1\" class=\"dataframe\">\n",
       "  <thead>\n",
       "    <tr style=\"text-align: right;\">\n",
       "      <th></th>\n",
       "      <th>Date</th>\n",
       "      <th>Country</th>\n",
       "      <th>Name</th>\n",
       "      <th>Sales_2020</th>\n",
       "      <th>Sales_2021</th>\n",
       "    </tr>\n",
       "  </thead>\n",
       "  <tbody>\n",
       "    <tr>\n",
       "      <th>0</th>\n",
       "      <td>2021-12-01</td>\n",
       "      <td>USA</td>\n",
       "      <td>Aammar</td>\n",
       "      <td>100.0</td>\n",
       "      <td>150.0</td>\n",
       "    </tr>\n",
       "    <tr>\n",
       "      <th>1</th>\n",
       "      <td>2021-12-01</td>\n",
       "      <td>USA</td>\n",
       "      <td>Hamza</td>\n",
       "      <td>200.0</td>\n",
       "      <td>NaN</td>\n",
       "    </tr>\n",
       "    <tr>\n",
       "      <th>2</th>\n",
       "      <td>2021-12-01</td>\n",
       "      <td>USA</td>\n",
       "      <td>ammar</td>\n",
       "      <td>NaN</td>\n",
       "      <td>250.0</td>\n",
       "    </tr>\n",
       "    <tr>\n",
       "      <th>3</th>\n",
       "      <td>2021-12-01</td>\n",
       "      <td>USA</td>\n",
       "      <td>Hazma</td>\n",
       "      <td>200.0</td>\n",
       "      <td>300.0</td>\n",
       "    </tr>\n",
       "  </tbody>\n",
       "</table>\n",
       "</div>"
      ],
      "text/plain": [
       "         Date Country    Name  Sales_2020  Sales_2021\n",
       "0  2021-12-01     USA  Aammar       100.0       150.0\n",
       "1  2021-12-01     USA   Hamza       200.0         NaN\n",
       "2  2021-12-01     USA   ammar         NaN       250.0\n",
       "3  2021-12-01     USA   Hazma       200.0       300.0"
      ]
     },
     "execution_count": 82,
     "metadata": {},
     "output_type": "execute_result"
    }
   ],
   "source": [
    "# Harmonizing Country Names\n",
    "country_mapping = {'U.S.A': 'USA', 'America': 'USA', 'United States': 'USA'}\n",
    "df['Country'] = df['Country'].replace(country_mapping)\n",
    "df.head()"
   ]
  },
  {
   "cell_type": "code",
   "execution_count": 83,
   "id": "8c315cf7",
   "metadata": {},
   "outputs": [
    {
     "data": {
      "text/html": [
       "<div>\n",
       "<style scoped>\n",
       "    .dataframe tbody tr th:only-of-type {\n",
       "        vertical-align: middle;\n",
       "    }\n",
       "\n",
       "    .dataframe tbody tr th {\n",
       "        vertical-align: top;\n",
       "    }\n",
       "\n",
       "    .dataframe thead th {\n",
       "        text-align: right;\n",
       "    }\n",
       "</style>\n",
       "<table border=\"1\" class=\"dataframe\">\n",
       "  <thead>\n",
       "    <tr style=\"text-align: right;\">\n",
       "      <th></th>\n",
       "      <th>Date</th>\n",
       "      <th>Country</th>\n",
       "      <th>Name</th>\n",
       "      <th>Sales_2020</th>\n",
       "      <th>Sales_2021</th>\n",
       "    </tr>\n",
       "  </thead>\n",
       "  <tbody>\n",
       "    <tr>\n",
       "      <th>0</th>\n",
       "      <td>2021-12-01</td>\n",
       "      <td>USA</td>\n",
       "      <td>Aammar</td>\n",
       "      <td>100.0</td>\n",
       "      <td>150.0</td>\n",
       "    </tr>\n",
       "    <tr>\n",
       "      <th>1</th>\n",
       "      <td>2021-12-01</td>\n",
       "      <td>USA</td>\n",
       "      <td>Hamza</td>\n",
       "      <td>200.0</td>\n",
       "      <td>NaN</td>\n",
       "    </tr>\n",
       "    <tr>\n",
       "      <th>2</th>\n",
       "      <td>2021-12-01</td>\n",
       "      <td>USA</td>\n",
       "      <td>Aammar</td>\n",
       "      <td>NaN</td>\n",
       "      <td>250.0</td>\n",
       "    </tr>\n",
       "    <tr>\n",
       "      <th>3</th>\n",
       "      <td>2021-12-01</td>\n",
       "      <td>USA</td>\n",
       "      <td>Hamza</td>\n",
       "      <td>200.0</td>\n",
       "      <td>300.0</td>\n",
       "    </tr>\n",
       "  </tbody>\n",
       "</table>\n",
       "</div>"
      ],
      "text/plain": [
       "         Date Country    Name  Sales_2020  Sales_2021\n",
       "0  2021-12-01     USA  Aammar       100.0       150.0\n",
       "1  2021-12-01     USA   Hamza       200.0         NaN\n",
       "2  2021-12-01     USA  Aammar         NaN       250.0\n",
       "3  2021-12-01     USA   Hamza       200.0       300.0"
      ]
     },
     "execution_count": 83,
     "metadata": {},
     "output_type": "execute_result"
    }
   ],
   "source": [
    "# Correct the typographical Errors in Names\n",
    "# Let's assume, we want to correct 'Jonh Doe' to 'John Doe'\n",
    "df['Name'] = df['Name'].replace({'ammar': 'Aammar', 'Hazma': 'Hamza'})\n",
    "df.head()"
   ]
  },
  {
   "cell_type": "code",
   "execution_count": 84,
   "id": "3e008d89",
   "metadata": {},
   "outputs": [
    {
     "data": {
      "text/html": [
       "<div>\n",
       "<style scoped>\n",
       "    .dataframe tbody tr th:only-of-type {\n",
       "        vertical-align: middle;\n",
       "    }\n",
       "\n",
       "    .dataframe tbody tr th {\n",
       "        vertical-align: top;\n",
       "    }\n",
       "\n",
       "    .dataframe thead th {\n",
       "        text-align: right;\n",
       "    }\n",
       "</style>\n",
       "<table border=\"1\" class=\"dataframe\">\n",
       "  <thead>\n",
       "    <tr style=\"text-align: right;\">\n",
       "      <th></th>\n",
       "      <th>Date</th>\n",
       "      <th>Country</th>\n",
       "      <th>Name</th>\n",
       "      <th>Sales_2020</th>\n",
       "      <th>Sales_2021</th>\n",
       "    </tr>\n",
       "  </thead>\n",
       "  <tbody>\n",
       "    <tr>\n",
       "      <th>0</th>\n",
       "      <td>2021-12-01</td>\n",
       "      <td>USA</td>\n",
       "      <td>Aammar</td>\n",
       "      <td>100.0</td>\n",
       "      <td>150.0</td>\n",
       "    </tr>\n",
       "    <tr>\n",
       "      <th>1</th>\n",
       "      <td>2021-12-01</td>\n",
       "      <td>USA</td>\n",
       "      <td>Hamza</td>\n",
       "      <td>200.0</td>\n",
       "      <td>NaN</td>\n",
       "    </tr>\n",
       "  </tbody>\n",
       "</table>\n",
       "</div>"
      ],
      "text/plain": [
       "         Date Country    Name  Sales_2020  Sales_2021\n",
       "0  2021-12-01     USA  Aammar       100.0       150.0\n",
       "1  2021-12-01     USA   Hamza       200.0         NaN"
      ]
     },
     "execution_count": 84,
     "metadata": {},
     "output_type": "execute_result"
    }
   ],
   "source": [
    "# Drop Duplicate Rows\n",
    "df = df.drop_duplicates(subset='Name')\n",
    "df.head()"
   ]
  },
  {
   "cell_type": "code",
   "execution_count": 85,
   "id": "1801235d",
   "metadata": {},
   "outputs": [
    {
     "data": {
      "text/html": [
       "<div>\n",
       "<style scoped>\n",
       "    .dataframe tbody tr th:only-of-type {\n",
       "        vertical-align: middle;\n",
       "    }\n",
       "\n",
       "    .dataframe tbody tr th {\n",
       "        vertical-align: top;\n",
       "    }\n",
       "\n",
       "    .dataframe thead th {\n",
       "        text-align: right;\n",
       "    }\n",
       "</style>\n",
       "<table border=\"1\" class=\"dataframe\">\n",
       "  <thead>\n",
       "    <tr style=\"text-align: right;\">\n",
       "      <th></th>\n",
       "      <th>Date</th>\n",
       "      <th>Country</th>\n",
       "      <th>Name</th>\n",
       "      <th>Sales_2020</th>\n",
       "      <th>Sales_2021</th>\n",
       "    </tr>\n",
       "  </thead>\n",
       "  <tbody>\n",
       "    <tr>\n",
       "      <th>0</th>\n",
       "      <td>2021-12-01</td>\n",
       "      <td>USA</td>\n",
       "      <td>Aammar</td>\n",
       "      <td>100.0</td>\n",
       "      <td>150.0</td>\n",
       "    </tr>\n",
       "    <tr>\n",
       "      <th>1</th>\n",
       "      <td>2021-12-01</td>\n",
       "      <td>USA</td>\n",
       "      <td>Hamza</td>\n",
       "      <td>200.0</td>\n",
       "      <td>NaN</td>\n",
       "    </tr>\n",
       "  </tbody>\n",
       "</table>\n",
       "</div>"
      ],
      "text/plain": [
       "         Date Country    Name  Sales_2020  Sales_2021\n",
       "0  2021-12-01     USA  Aammar       100.0       150.0\n",
       "1  2021-12-01     USA   Hamza       200.0         NaN"
      ]
     },
     "execution_count": 85,
     "metadata": {},
     "output_type": "execute_result"
    }
   ],
   "source": [
    "# Resolving contradictory data in Sales_2020 and Sales_2021\n",
    "# For example, if Sales_2021 is greater than Sales_2020, then remove the rows where condition is not met\n",
    "df = df.drop(df[df['Sales_2021'] <= df['Sales_2020']].index)\n",
    "df.head()"
   ]
  },
  {
   "cell_type": "markdown",
   "id": "865aede9",
   "metadata": {},
   "source": [
    "# Conclision:\n",
    "Data inconsistencies, abnormalities, and anomalies can lead to poor decision-making, reduced data quality, and operational inefficiencies. They undermine customer trust and may result in regulatory non-compliance. Addressing these issues is crucial for maintaining data integrity and ensuring accurate analyses."
   ]
  }
 ],
 "metadata": {
  "kernelspec": {
   "display_name": "awfera_env",
   "language": "python",
   "name": "python3"
  },
  "language_info": {
   "codemirror_mode": {
    "name": "ipython",
    "version": 3
   },
   "file_extension": ".py",
   "mimetype": "text/x-python",
   "name": "python",
   "nbconvert_exporter": "python",
   "pygments_lexer": "ipython3",
   "version": "3.12.11"
  }
 },
 "nbformat": 4,
 "nbformat_minor": 5
}
