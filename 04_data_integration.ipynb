{
 "cells": [
  {
   "cell_type": "markdown",
   "id": "ddf9b193",
   "metadata": {},
   "source": [
    "# Data Integration\n",
    "## 1. Data Merging "
   ]
  },
  {
   "cell_type": "code",
   "execution_count": 3,
   "id": "2b88c66b",
   "metadata": {},
   "outputs": [
    {
     "data": {
      "text/html": [
       "<div>\n",
       "<style scoped>\n",
       "    .dataframe tbody tr th:only-of-type {\n",
       "        vertical-align: middle;\n",
       "    }\n",
       "\n",
       "    .dataframe tbody tr th {\n",
       "        vertical-align: top;\n",
       "    }\n",
       "\n",
       "    .dataframe thead th {\n",
       "        text-align: right;\n",
       "    }\n",
       "</style>\n",
       "<table border=\"1\" class=\"dataframe\">\n",
       "  <thead>\n",
       "    <tr style=\"text-align: right;\">\n",
       "      <th></th>\n",
       "      <th>ID</th>\n",
       "      <th>Name</th>\n",
       "      <th>Age</th>\n",
       "      <th>City</th>\n",
       "      <th>Salary</th>\n",
       "    </tr>\n",
       "  </thead>\n",
       "  <tbody>\n",
       "    <tr>\n",
       "      <th>0</th>\n",
       "      <td>1</td>\n",
       "      <td>Alice</td>\n",
       "      <td>25</td>\n",
       "      <td>New York</td>\n",
       "      <td>70000</td>\n",
       "    </tr>\n",
       "    <tr>\n",
       "      <th>1</th>\n",
       "      <td>2</td>\n",
       "      <td>Bob</td>\n",
       "      <td>30</td>\n",
       "      <td>Los Angeles</td>\n",
       "      <td>80000</td>\n",
       "    </tr>\n",
       "  </tbody>\n",
       "</table>\n",
       "</div>"
      ],
      "text/plain": [
       "   ID   Name  Age         City  Salary\n",
       "0   1  Alice   25     New York   70000\n",
       "1   2    Bob   30  Los Angeles   80000"
      ]
     },
     "execution_count": 3,
     "metadata": {},
     "output_type": "execute_result"
    }
   ],
   "source": [
    "# Import libraries\n",
    "import pandas as pd\n",
    "\n",
    "# Example datasets fo merging\n",
    "data1 ={\n",
    "    'ID' : [1,2,3],\n",
    "    'Name' : ['Alice', 'Bob', 'Charlie'],\n",
    "    'Age' : [25,30,35]\n",
    "}\n",
    "\n",
    "# Convert data1 to DataFrame\n",
    "df1 = pd.DataFrame(data1)\n",
    "\n",
    "data2 = {\n",
    "    'ID' : [1,2,4],\n",
    "    'City' : ['New York', 'Los Angeles', 'Chicago'],\n",
    "    'Salary' : [70000,80000,90000]\n",
    "}\n",
    "\n",
    "# Convert data2 to DataFrame\n",
    "df2 = pd.DataFrame(data2)\n",
    "\n",
    "# Merge datasets on 'ID' column\n",
    "merged_df = pd.merge(df1, df2, on='ID', how='inner')\n",
    "\n",
    "merged_df.head()\n",
    "\n"
   ]
  },
  {
   "cell_type": "markdown",
   "id": "3a621c77",
   "metadata": {},
   "source": [
    "Output: Columns having same `ID` will merged. In the above datasets, only two ID's are same, so it merged only 2 records."
   ]
  },
  {
   "cell_type": "markdown",
   "id": "f244cfd4",
   "metadata": {},
   "source": [
    "---\n",
    "## 2. Concatenation"
   ]
  },
  {
   "cell_type": "code",
   "execution_count": null,
   "id": "b871c749",
   "metadata": {},
   "outputs": [
    {
     "name": "stdout",
     "output_type": "stream",
     "text": [
      "      Name  Age\n",
      "0    Alice   25\n",
      "1      Bob   30\n",
      "2  Charlie   35\n",
      "0    David   28\n",
      "1      Eva   32\n",
      "2    Frank   38\n",
      "---------------------------------\n",
      "      Name  Age         City Province\n",
      "0    Alice   25     New York       NY\n",
      "1      Bob   30  Los Angeles       CA\n",
      "2  Charlie   35      Chicago       IL\n"
     ]
    }
   ],
   "source": [
    "# Import Libraries\n",
    "import pandas as pd\n",
    "\n",
    "# Example datasets for concatenation\n",
    "data1 = {'Name' : ['Alice', 'Bob', 'Charlie'], 'Age' : [25,30,35]}\n",
    "data2 = {'Name' : ['David', 'Eva', 'Frank'], 'Age' : [28,32,38]}\n",
    "data3 = {'City' : ['New York', 'Los Angeles', 'Chicago'], 'Province' : ['NY', 'CA', 'IL']}\n",
    "\n",
    "# Convert to DataFrames\n",
    "df1 =pd.DataFrame(data1)\n",
    "df2 =pd.DataFrame(data2)\n",
    "df3 =pd.DataFrame(data3)\n",
    "\n",
    "# Concatenate datasets vertically (row-wise)\n",
    "concatenated_rows = pd.concat([df1, df2], axis=0)    # axis=0 is the default setting\n",
    "\n",
    "# Concatenate datasets horizontally (column-wise)\n",
    "concatenated_columns = pd.concat([df1, df3], axis=1)   # axis=1 for column-wise concatenation\n",
    "\n",
    "print(concatenated_rows)\n",
    "print('---------------------------------')\n",
    "print(concatenated_columns)"
   ]
  }
 ],
 "metadata": {
  "kernelspec": {
   "display_name": "awfera_env",
   "language": "python",
   "name": "python3"
  },
  "language_info": {
   "codemirror_mode": {
    "name": "ipython",
    "version": 3
   },
   "file_extension": ".py",
   "mimetype": "text/x-python",
   "name": "python",
   "nbconvert_exporter": "python",
   "pygments_lexer": "ipython3",
   "version": "3.12.11"
  }
 },
 "nbformat": 4,
 "nbformat_minor": 5
}
