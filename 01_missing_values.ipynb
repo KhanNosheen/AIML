{
 "cells": [
  {
   "cell_type": "markdown",
   "id": "be6b450d",
   "metadata": {},
   "source": [
    "# Data Pre-processing\n",
    "Data pre-processing transform data into a special format that is useful or suitable for machine learning model<br><br> \n",
    "Why we need data pre-processing? <br><br>\n",
    "We need data pre-processing due to the following reasons:\n",
    "1. To improve machine learning models performance\n",
    "2. To reduce the complexity of relationships in data\n",
    "3. To make data compatible for machine learning algorithms\n",
    "4. To make data format suitable for model interpretation\n",
    "5. Model will fail to perfom well without pre-processing "
   ]
  },
  {
   "cell_type": "markdown",
   "id": "9bfb2dc4",
   "metadata": {},
   "source": [
    "* <b> Tasks:</b>\n",
    "* Handling missing values\n",
    "* Normalizing or Standerdizing(Scaling) numerical features\n",
    "* Encoding Categorical variables\n",
    "* Removing Duplicates and Outliesrs\n",
    "* Splitting datasets into training and testing sets"
   ]
  },
  {
   "cell_type": "code",
   "execution_count": 3,
   "id": "14c815ed",
   "metadata": {},
   "outputs": [],
   "source": [
    "# Import Libraries\n",
    "import pandas as pd    # Data manipulation\n",
    "import numpy as np     # Numerical operations\n",
    "\n",
    "import seaborn as sns   # Load sample datasets and visualization\n",
    "import matplotlib.pyplot as plt   # Data visualization\n",
    "\n",
    "from scipy import stats    # Statistical functions\n",
    "\n",
    "from warnings import filterwarnings    # Warning control\n",
    "filterwarnings('ignore')    # Ignore warnings for cleaner output\n",
    "\n",
    "from sklearn.preprocessing import LabelEncoder  # Encoding categorical variables\n",
    "from sklearn.preprocessing import StandardScaler  # Scaling numerical features"
   ]
  },
  {
   "cell_type": "code",
   "execution_count": 4,
   "id": "de618e40",
   "metadata": {},
   "outputs": [],
   "source": [
    "# Load the dataset from a CSV file\n",
    "df = pd.read_csv('./dataset/titanic.csv')"
   ]
  },
  {
   "cell_type": "code",
   "execution_count": 5,
   "id": "ac24384f",
   "metadata": {},
   "outputs": [
    {
     "data": {
      "text/html": [
       "<div>\n",
       "<style scoped>\n",
       "    .dataframe tbody tr th:only-of-type {\n",
       "        vertical-align: middle;\n",
       "    }\n",
       "\n",
       "    .dataframe tbody tr th {\n",
       "        vertical-align: top;\n",
       "    }\n",
       "\n",
       "    .dataframe thead th {\n",
       "        text-align: right;\n",
       "    }\n",
       "</style>\n",
       "<table border=\"1\" class=\"dataframe\">\n",
       "  <thead>\n",
       "    <tr style=\"text-align: right;\">\n",
       "      <th></th>\n",
       "      <th>PassengerId</th>\n",
       "      <th>Survived</th>\n",
       "      <th>Pclass</th>\n",
       "      <th>Name</th>\n",
       "      <th>Sex</th>\n",
       "      <th>Age</th>\n",
       "      <th>SibSp</th>\n",
       "      <th>Parch</th>\n",
       "      <th>Ticket</th>\n",
       "      <th>Fare</th>\n",
       "      <th>Cabin</th>\n",
       "      <th>Embarked</th>\n",
       "    </tr>\n",
       "  </thead>\n",
       "  <tbody>\n",
       "    <tr>\n",
       "      <th>0</th>\n",
       "      <td>1</td>\n",
       "      <td>0</td>\n",
       "      <td>3</td>\n",
       "      <td>Braund, Mr. Owen Harris</td>\n",
       "      <td>male</td>\n",
       "      <td>22.0</td>\n",
       "      <td>1</td>\n",
       "      <td>0</td>\n",
       "      <td>A/5 21171</td>\n",
       "      <td>7.2500</td>\n",
       "      <td>NaN</td>\n",
       "      <td>S</td>\n",
       "    </tr>\n",
       "    <tr>\n",
       "      <th>1</th>\n",
       "      <td>2</td>\n",
       "      <td>1</td>\n",
       "      <td>1</td>\n",
       "      <td>Cumings, Mrs. John Bradley (Florence Briggs Th...</td>\n",
       "      <td>female</td>\n",
       "      <td>38.0</td>\n",
       "      <td>1</td>\n",
       "      <td>0</td>\n",
       "      <td>PC 17599</td>\n",
       "      <td>71.2833</td>\n",
       "      <td>C85</td>\n",
       "      <td>C</td>\n",
       "    </tr>\n",
       "    <tr>\n",
       "      <th>2</th>\n",
       "      <td>3</td>\n",
       "      <td>1</td>\n",
       "      <td>3</td>\n",
       "      <td>Heikkinen, Miss. Laina</td>\n",
       "      <td>female</td>\n",
       "      <td>26.0</td>\n",
       "      <td>0</td>\n",
       "      <td>0</td>\n",
       "      <td>STON/O2. 3101282</td>\n",
       "      <td>7.9250</td>\n",
       "      <td>NaN</td>\n",
       "      <td>S</td>\n",
       "    </tr>\n",
       "    <tr>\n",
       "      <th>3</th>\n",
       "      <td>4</td>\n",
       "      <td>1</td>\n",
       "      <td>1</td>\n",
       "      <td>Futrelle, Mrs. Jacques Heath (Lily May Peel)</td>\n",
       "      <td>female</td>\n",
       "      <td>35.0</td>\n",
       "      <td>1</td>\n",
       "      <td>0</td>\n",
       "      <td>113803</td>\n",
       "      <td>53.1000</td>\n",
       "      <td>C123</td>\n",
       "      <td>S</td>\n",
       "    </tr>\n",
       "    <tr>\n",
       "      <th>4</th>\n",
       "      <td>5</td>\n",
       "      <td>0</td>\n",
       "      <td>3</td>\n",
       "      <td>Allen, Mr. William Henry</td>\n",
       "      <td>male</td>\n",
       "      <td>35.0</td>\n",
       "      <td>0</td>\n",
       "      <td>0</td>\n",
       "      <td>373450</td>\n",
       "      <td>8.0500</td>\n",
       "      <td>NaN</td>\n",
       "      <td>S</td>\n",
       "    </tr>\n",
       "  </tbody>\n",
       "</table>\n",
       "</div>"
      ],
      "text/plain": [
       "   PassengerId  Survived  Pclass  \\\n",
       "0            1         0       3   \n",
       "1            2         1       1   \n",
       "2            3         1       3   \n",
       "3            4         1       1   \n",
       "4            5         0       3   \n",
       "\n",
       "                                                Name     Sex   Age  SibSp  \\\n",
       "0                            Braund, Mr. Owen Harris    male  22.0      1   \n",
       "1  Cumings, Mrs. John Bradley (Florence Briggs Th...  female  38.0      1   \n",
       "2                             Heikkinen, Miss. Laina  female  26.0      0   \n",
       "3       Futrelle, Mrs. Jacques Heath (Lily May Peel)  female  35.0      1   \n",
       "4                           Allen, Mr. William Henry    male  35.0      0   \n",
       "\n",
       "   Parch            Ticket     Fare Cabin Embarked  \n",
       "0      0         A/5 21171   7.2500   NaN        S  \n",
       "1      0          PC 17599  71.2833   C85        C  \n",
       "2      0  STON/O2. 3101282   7.9250   NaN        S  \n",
       "3      0            113803  53.1000  C123        S  \n",
       "4      0            373450   8.0500   NaN        S  "
      ]
     },
     "execution_count": 5,
     "metadata": {},
     "output_type": "execute_result"
    }
   ],
   "source": [
    "# To se first 5 rows of the dataset\n",
    "df.head()"
   ]
  },
  {
   "cell_type": "code",
   "execution_count": 6,
   "id": "d050d1b0",
   "metadata": {},
   "outputs": [
    {
     "data": {
      "text/plain": [
       "(891, 12)"
      ]
     },
     "execution_count": 6,
     "metadata": {},
     "output_type": "execute_result"
    }
   ],
   "source": [
    "# Check the shape of the dataset\n",
    "df.shape"
   ]
  },
  {
   "cell_type": "code",
   "execution_count": 7,
   "id": "2827ad69",
   "metadata": {},
   "outputs": [
    {
     "data": {
      "text/plain": [
       "PassengerId      int64\n",
       "Survived         int64\n",
       "Pclass           int64\n",
       "Name            object\n",
       "Sex             object\n",
       "Age            float64\n",
       "SibSp            int64\n",
       "Parch            int64\n",
       "Ticket          object\n",
       "Fare           float64\n",
       "Cabin           object\n",
       "Embarked        object\n",
       "dtype: object"
      ]
     },
     "execution_count": 7,
     "metadata": {},
     "output_type": "execute_result"
    }
   ],
   "source": [
    "# Check data types\n",
    "df.dtypes"
   ]
  },
  {
   "cell_type": "code",
   "execution_count": 8,
   "id": "795c9796",
   "metadata": {},
   "outputs": [
    {
     "name": "stdout",
     "output_type": "stream",
     "text": [
      "<class 'pandas.core.frame.DataFrame'>\n",
      "RangeIndex: 891 entries, 0 to 890\n",
      "Data columns (total 12 columns):\n",
      " #   Column       Non-Null Count  Dtype  \n",
      "---  ------       --------------  -----  \n",
      " 0   PassengerId  891 non-null    int64  \n",
      " 1   Survived     891 non-null    int64  \n",
      " 2   Pclass       891 non-null    int64  \n",
      " 3   Name         891 non-null    object \n",
      " 4   Sex          891 non-null    object \n",
      " 5   Age          714 non-null    float64\n",
      " 6   SibSp        891 non-null    int64  \n",
      " 7   Parch        891 non-null    int64  \n",
      " 8   Ticket       891 non-null    object \n",
      " 9   Fare         891 non-null    float64\n",
      " 10  Cabin        204 non-null    object \n",
      " 11  Embarked     889 non-null    object \n",
      "dtypes: float64(2), int64(5), object(5)\n",
      "memory usage: 83.7+ KB\n"
     ]
    }
   ],
   "source": [
    "# check data info\n",
    "df.info()"
   ]
  },
  {
   "cell_type": "markdown",
   "id": "a977fd74",
   "metadata": {},
   "source": [
    "### Find and drop Duplicate values "
   ]
  },
  {
   "cell_type": "code",
   "execution_count": 9,
   "id": "a7d1843a",
   "metadata": {},
   "outputs": [
    {
     "data": {
      "text/plain": [
       "0"
      ]
     },
     "execution_count": 9,
     "metadata": {},
     "output_type": "execute_result"
    }
   ],
   "source": [
    "# Find duplicate values\n",
    "df.duplicated().sum()"
   ]
  },
  {
   "cell_type": "markdown",
   "id": "363fc196",
   "metadata": {},
   "source": [
    "## Find and Handling missing values"
   ]
  },
  {
   "cell_type": "code",
   "execution_count": 10,
   "id": "f3786c14",
   "metadata": {},
   "outputs": [
    {
     "name": "stdout",
     "output_type": "stream",
     "text": [
      "------------------------------------------------------\n",
      "Missing Values in each Column:\n",
      "Cabin          687\n",
      "Age            177\n",
      "Embarked         2\n",
      "PassengerId      0\n",
      "Survived         0\n",
      "Pclass           0\n",
      "Name             0\n",
      "Sex              0\n",
      "SibSp            0\n",
      "Parch            0\n",
      "Ticket           0\n",
      "Fare             0\n",
      "dtype: int64\n",
      "------------------------------------------------------\n",
      "Percentage of Missing Values in each column: \n",
      " Cabin          77.10\n",
      "Age            19.87\n",
      "Embarked        0.22\n",
      "PassengerId     0.00\n",
      "Survived        0.00\n",
      "Pclass          0.00\n",
      "Name            0.00\n",
      "Sex             0.00\n",
      "SibSp           0.00\n",
      "Parch           0.00\n",
      "Ticket          0.00\n",
      "Fare            0.00\n",
      "dtype: float64\n"
     ]
    }
   ],
   "source": [
    "# Find missing values\n",
    "print(\"------------------------------------------------------\")\n",
    "print(f\"Missing Values in each Column:\\n{df.isnull().sum().sort_values(ascending=False)}\")\n",
    "# Find percentage of missing values\n",
    "print(\"------------------------------------------------------\")\n",
    "print(f\"Percentage of Missing Values in each column: \\n {round(df.isnull().sum() / len(df) * 100, 2).sort_values(ascending=False)}\")"
   ]
  },
  {
   "cell_type": "markdown",
   "id": "80184853",
   "metadata": {},
   "source": [
    "Now, we visualize missing values through a Heatmap"
   ]
  },
  {
   "cell_type": "code",
   "execution_count": 11,
   "id": "04dae884",
   "metadata": {},
   "outputs": [
    {
     "data": {
      "image/png": "[encoded data removed]",
      "text/plain": [
       "<Figure size 2000x1000 with 1 Axes>"
      ]
     },
     "metadata": {},
     "output_type": "display_data"
    }
   ],
   "source": [
    "# Visualize missing values through a Heatmap\n",
    "plt.figure(figsize=(20,10))\n",
    "\n",
    "sns.heatmap(df.isnull(), yticklabels=False, cbar=False, cmap='viridis')\n",
    "plt.title('Missing Values Heatmap', fontsize=20)\n",
    "plt.show()"
   ]
  },
  {
   "cell_type": "markdown",
   "id": "22c5c03b",
   "metadata": {},
   "source": [
    "### Methods of Handling Missing Values\n",
    "1. Collect data from where it is missing\n",
    "2. Mean, Median, Mode\n",
    "3. Forward or Backward Fill\n",
    "4. Deep Learning Techniques (Iterative Imputers)\n",
    "5. KNN Imputers (by using Neighboring Algorithm)\n",
    "6. Delete Missing Values\n"
   ]
  },
  {
   "cell_type": "markdown",
   "id": "a494d20c",
   "metadata": {},
   "source": [
    "### Method No:1 \n",
    "As it is not possible to collect data again from Titanic So, we ignore this method\n",
    "### Method No:2\n",
    "Mean, Median, Mode "
   ]
  },
  {
   "cell_type": "code",
   "execution_count": 12,
   "id": "420c0766",
   "metadata": {},
   "outputs": [
    {
     "data": {
      "text/plain": [
       "29.7"
      ]
     },
     "execution_count": 12,
     "metadata": {},
     "output_type": "execute_result"
    }
   ],
   "source": [
    "round(df['Age'].mean(), 2)  # Mean stretches the values due to outliers"
   ]
  },
  {
   "cell_type": "code",
   "execution_count": 13,
   "id": "eb4846db",
   "metadata": {},
   "outputs": [
    {
     "data": {
      "text/plain": [
       "28.0"
      ]
     },
     "execution_count": 13,
     "metadata": {},
     "output_type": "execute_result"
    }
   ],
   "source": [
    "df['Age'].median()   # Median is better in this case because it is not affected by outliers"
   ]
  },
  {
   "cell_type": "code",
   "execution_count": 14,
   "id": "4de6e34f",
   "metadata": {},
   "outputs": [],
   "source": [
    "# Fill age column with median \n",
    "df['Age'] = df['Age'].fillna(df['Age'].median())"
   ]
  },
  {
   "cell_type": "code",
   "execution_count": 15,
   "id": "0947588a",
   "metadata": {},
   "outputs": [],
   "source": [
    "# Remove 'Cabin' column due to high number of missing values as it is not useful for analysis\n",
    "df.drop('Cabin', axis=1, inplace=True)   # axis=1 means column, axis=0 means row"
   ]
  },
  {
   "cell_type": "code",
   "execution_count": 16,
   "id": "f7bd10e9",
   "metadata": {},
   "outputs": [
    {
     "data": {
      "text/plain": [
       "Embarked\n",
       "S    644\n",
       "C    168\n",
       "Q     77\n",
       "Name: count, dtype: int64"
      ]
     },
     "execution_count": 16,
     "metadata": {},
     "output_type": "execute_result"
    }
   ],
   "source": [
    "# First we check value counts of 'Embarked' column\n",
    "df['Embarked'].value_counts()"
   ]
  },
  {
   "cell_type": "code",
   "execution_count": 17,
   "id": "66d4fca1",
   "metadata": {},
   "outputs": [
    {
     "data": {
      "text/plain": [
       "Embarked\n",
       "S    644\n",
       "C    168\n",
       "Q     77\n",
       "Name: count, dtype: int64"
      ]
     },
     "execution_count": 17,
     "metadata": {},
     "output_type": "execute_result"
    }
   ],
   "source": [
    "# Replacing 'Embarked' column missing values with mode[0] because it is categorical data having only 3 unique values with one mode\n",
    "df['Embarked'].value_counts()"
   ]
  },
  {
   "cell_type": "code",
   "execution_count": 18,
   "id": "5f6c314a",
   "metadata": {},
   "outputs": [],
   "source": [
    "# Replace Embarked missing values with mode\n",
    "df['Embarked'] = df['Embarked'].fillna(df['Embarked'].mode()[0])"
   ]
  },
  {
   "cell_type": "code",
   "execution_count": 19,
   "id": "ca3d6f25",
   "metadata": {},
   "outputs": [
    {
     "data": {
      "text/plain": [
       "PassengerId    0\n",
       "Survived       0\n",
       "Pclass         0\n",
       "Name           0\n",
       "Sex            0\n",
       "Age            0\n",
       "SibSp          0\n",
       "Parch          0\n",
       "Ticket         0\n",
       "Fare           0\n",
       "Embarked       0\n",
       "dtype: int64"
      ]
     },
     "execution_count": 19,
     "metadata": {},
     "output_type": "execute_result"
    }
   ],
   "source": [
    "# Check missing values again after imputation\n",
    "df.isnull().sum().sort_values(ascending=False)"
   ]
  },
  {
   "cell_type": "markdown",
   "id": "9d728a32",
   "metadata": {},
   "source": [
    "### Method No:3 \n",
    "#### Imputation using Backward and Forward Fill"
   ]
  },
  {
   "cell_type": "code",
   "execution_count": 20,
   "id": "3b870638",
   "metadata": {},
   "outputs": [],
   "source": [
    "# Load the dataset to see imputation using forward fill and backward fill\n",
    "df = pd.read_csv('./dataset/titanic.csv')"
   ]
  },
  {
   "cell_type": "code",
   "execution_count": 21,
   "id": "2f6ecdee",
   "metadata": {},
   "outputs": [
    {
     "data": {
      "text/plain": [
       "Cabin          687\n",
       "Age            177\n",
       "Embarked         2\n",
       "PassengerId      0\n",
       "Survived         0\n",
       "Pclass           0\n",
       "Name             0\n",
       "Sex              0\n",
       "SibSp            0\n",
       "Parch            0\n",
       "Ticket           0\n",
       "Fare             0\n",
       "dtype: int64"
      ]
     },
     "execution_count": 21,
     "metadata": {},
     "output_type": "execute_result"
    }
   ],
   "source": [
    "df.isnull().sum().sort_values(ascending=False)"
   ]
  },
  {
   "cell_type": "code",
   "execution_count": null,
   "id": "179cc7b4",
   "metadata": {},
   "outputs": [],
   "source": [
    "# Impute missing value of Age column using forward fill method\n",
    "df['Age'] = df['Age'].ffill()  # Forward fill"
   ]
  },
  {
   "cell_type": "code",
   "execution_count": null,
   "id": "940acd3a",
   "metadata": {},
   "outputs": [],
   "source": [
    "# Impute missing value of Age column using backward fill method\n",
    "df['Age'] = df['Age'].bfill()  # Backward fill"
   ]
  },
  {
   "cell_type": "code",
   "execution_count": null,
   "id": "c0dedfcb",
   "metadata": {},
   "outputs": [],
   "source": [
    "# Check missing values after applying forward fill and backward fill methods one by one\n",
    "df.isnull().sum().sort_values(ascending=False)"
   ]
  },
  {
   "cell_type": "markdown",
   "id": "3be214eb",
   "metadata": {},
   "source": [
    "### Method No:4 \n",
    "#### Iterative Imputers (Impute Missing Values using SK-Learn)"
   ]
  },
  {
   "cell_type": "markdown",
   "id": "3486d00d",
   "metadata": {},
   "source": [
    "\n",
    "#### 1. </b>Univariate Imputation</b>\n",
    "Univariate imputation refers to the process of filling in missing values in a single variable (feature) without considering the relationships or values of other variables. Here are some key points:\n",
    "\n",
    "<b> Focus on One Variable:</b> In univariate imputation, only the variable with missing values is examined, and the imputation method is applied solely to that variable.\n",
    "\n",
    "<b>Common Methods:</b>\n",
    "\n",
    "<b>Mean Imputation:</b> Replacing missing values with the mean of the observed values.\\\n",
    "<b>Median Imputation:</b> Using the median instead of the mean, which is more robust to outliers.\\\n",
    "<b>Mode Imputation:</b> For categorical variables, replacing missing values with the most frequent category.\\\n",
    "<b>Constant Imputation:</b> Filling missing values with a specific constant (like zero or a placeholder).\\\n",
    "<b>Simplicity:</b> Univariate imputation is straightforward and easy to implement but may not capture the underlying data structure or relationships in multivariate datasets.\n",
    "\n",
    "<b>Limitations:</b> Since it ignores other variables, it can lead to biased results if there are correlations between the variable with missing values and other features in the dataset."
   ]
  },
  {
   "cell_type": "code",
   "execution_count": 22,
   "id": "226b528f",
   "metadata": {},
   "outputs": [],
   "source": [
    "# Import Simple Imputer from sklearn \n",
    "from sklearn.impute import SimpleImputer"
   ]
  },
  {
   "cell_type": "code",
   "execution_count": 23,
   "id": "999f430a",
   "metadata": {},
   "outputs": [],
   "source": [
    "# Load the dataset again to show imputation using sklearn\n",
    "df = pd.read_csv('./dataset/titanic.csv')"
   ]
  },
  {
   "cell_type": "code",
   "execution_count": 24,
   "id": "de7a924b",
   "metadata": {},
   "outputs": [
    {
     "data": {
      "text/plain": [
       "Cabin          687\n",
       "Age            177\n",
       "Embarked         2\n",
       "PassengerId      0\n",
       "Survived         0\n",
       "Pclass           0\n",
       "Name             0\n",
       "Sex              0\n",
       "SibSp            0\n",
       "Parch            0\n",
       "Ticket           0\n",
       "Fare             0\n",
       "dtype: int64"
      ]
     },
     "execution_count": 24,
     "metadata": {},
     "output_type": "execute_result"
    }
   ],
   "source": [
    "# Check values before imputation\n",
    "df.isnull().sum().sort_values(ascending=False)"
   ]
  },
  {
   "cell_type": "code",
   "execution_count": 25,
   "id": "23f5cc63",
   "metadata": {},
   "outputs": [],
   "source": [
    "# Impute Age column using Sklearn (by simple imputer)\n",
    "imputer = SimpleImputer(strategy='median')   # Create an imputer object with a median filling strategy\n",
    "df['Age'] = imputer.fit_transform(df[['Age']])   # Fit the imputer on Age column and transform the data"
   ]
  },
  {
   "cell_type": "code",
   "execution_count": 26,
   "id": "654a3333",
   "metadata": {},
   "outputs": [
    {
     "data": {
      "text/plain": [
       "Cabin          687\n",
       "Embarked         2\n",
       "PassengerId      0\n",
       "Survived         0\n",
       "Pclass           0\n",
       "Name             0\n",
       "Sex              0\n",
       "Age              0\n",
       "SibSp            0\n",
       "Parch            0\n",
       "Ticket           0\n",
       "Fare             0\n",
       "dtype: int64"
      ]
     },
     "execution_count": 26,
     "metadata": {},
     "output_type": "execute_result"
    }
   ],
   "source": [
    "# Check values fter imputation\n",
    "df.isnull().sum().sort_values(ascending=False)"
   ]
  },
  {
   "cell_type": "markdown",
   "id": "9553485b",
   "metadata": {},
   "source": [
    "### 2. Multivariate Imputation \n",
    "This is a method for filling in missing data by using information from multiple variables in a dataset. It leverages the relationships and correlations between features to predict missing values, often employing statistical models or machine learning techniques. This approach aims to provide more accurate and contextually relevant imputations compared to univariate methods, which only consider a single variable.\n",
    "\n",
    "<b>Common Techniques</b>\n",
    "\n",
    "<b>Multiple Imputation:</b> Creates several complete datasets by imputing missing values multiple times, allowing for variability and uncertainty in estimates.\\\n",
    "<b>K-Nearest Neighbors (KNN):</b> Uses the nearest neighbors in the dataset to impute missing values based on similarities.\\\n",
    "<b>Multivariate Normal Imputation:</b> Assumes that the data follows a multivariate normal distribution to impute missing values.\n",
    "\n",
    "<b>Benefits</b>\n",
    "<b>Improved Accuracy:</b> By using the information from related features, multivariate imputation can lead to more accurate estimates of missing values.\\\n",
    "<b>Reduced Bias:</b> It helps mitigate biases that might arise from simply filling in values without considering other data.\n",
    "\n",
    "<b>Considerations</b>\n",
    "<b>Complexity:</b> It can be more computationally intensive and complex to implement compared to simpler methods.\n",
    "<b>Data Loss:</b> Depending on the method used, it may lead to row deletions if complete cases are required for the imputation."
   ]
  },
  {
   "cell_type": "code",
   "execution_count": 27,
   "id": "6602ec50",
   "metadata": {},
   "outputs": [],
   "source": [
    "# Load the dataset again to show Multivariate imputation\n",
    "df = pd.read_csv('./dataset/titanic.csv') # we can load dataset through sns.load_dataset('titanic')"
   ]
  },
  {
   "cell_type": "code",
   "execution_count": 28,
   "id": "15f1ef33",
   "metadata": {},
   "outputs": [
    {
     "data": {
      "text/plain": [
       "Cabin          687\n",
       "Age            177\n",
       "Embarked         2\n",
       "PassengerId      0\n",
       "Survived         0\n",
       "Pclass           0\n",
       "Name             0\n",
       "Sex              0\n",
       "SibSp            0\n",
       "Parch            0\n",
       "Ticket           0\n",
       "Fare             0\n",
       "dtype: int64"
      ]
     },
     "execution_count": 28,
     "metadata": {},
     "output_type": "execute_result"
    }
   ],
   "source": [
    "# check missing values before IterativeImputer\n",
    "df.isnull().sum().sort_values(ascending=False)"
   ]
  },
  {
   "cell_type": "code",
   "execution_count": 29,
   "id": "314119d2",
   "metadata": {},
   "outputs": [],
   "source": [
    "from sklearn.experimental import enable_iterative_imputer  # To enable the experimental feature\n",
    "from sklearn.impute import IterativeImputer  # Import Iterative Imputer\n",
    "\n",
    "# Impute Age column using Multivariate Imputer\n",
    "imputer = IterativeImputer(max_iter=20, n_nearest_features=5)  # Create an imputer object\n",
    "df['Age'] = imputer.fit_transform(df[['Age']])  # Fit the imputer on Age column and transform the data"
   ]
  },
  {
   "cell_type": "code",
   "execution_count": 30,
   "id": "91e4bba6",
   "metadata": {},
   "outputs": [
    {
     "data": {
      "text/plain": [
       "Cabin          687\n",
       "Embarked         2\n",
       "PassengerId      0\n",
       "Survived         0\n",
       "Pclass           0\n",
       "Name             0\n",
       "Sex              0\n",
       "Age              0\n",
       "SibSp            0\n",
       "Parch            0\n",
       "Ticket           0\n",
       "Fare             0\n",
       "dtype: int64"
      ]
     },
     "execution_count": 30,
     "metadata": {},
     "output_type": "execute_result"
    }
   ],
   "source": [
    "# Check missing values after Multivariate Imputer\n",
    "df.isnull().sum().sort_values(ascending=False)"
   ]
  },
  {
   "cell_type": "code",
   "execution_count": 32,
   "id": "6abefb66",
   "metadata": {},
   "outputs": [
    {
     "data": {
      "text/plain": [
       "Cabin          687\n",
       "Embarked         2\n",
       "PassengerId      0\n",
       "Survived         0\n",
       "Pclass           0\n",
       "Name             0\n",
       "Sex              0\n",
       "Age              0\n",
       "SibSp            0\n",
       "Parch            0\n",
       "Ticket           0\n",
       "Fare             0\n",
       "dtype: int64"
      ]
     },
     "execution_count": 32,
     "metadata": {},
     "output_type": "execute_result"
    }
   ],
   "source": [
    "# Let's check , either Cabin column is dropped or not\n",
    "df.isnull().sum().sort_values(ascending=False)"
   ]
  },
  {
   "cell_type": "markdown",
   "id": "e0f73140",
   "metadata": {},
   "source": [
    "### Method No:5\n",
    "#### Using KNN Imputer"
   ]
  },
  {
   "cell_type": "code",
   "execution_count": 33,
   "id": "334b63b4",
   "metadata": {},
   "outputs": [],
   "source": [
    "#import dataset again to show KNN Imputer\n",
    "df = pd.read_csv('./dataset/titanic.csv')"
   ]
  },
  {
   "cell_type": "code",
   "execution_count": 34,
   "id": "61785ed4",
   "metadata": {},
   "outputs": [
    {
     "data": {
      "text/plain": [
       "Cabin          687\n",
       "Age            177\n",
       "Embarked         2\n",
       "PassengerId      0\n",
       "Survived         0\n",
       "Pclass           0\n",
       "Name             0\n",
       "Sex              0\n",
       "SibSp            0\n",
       "Parch            0\n",
       "Ticket           0\n",
       "Fare             0\n",
       "dtype: int64"
      ]
     },
     "execution_count": 34,
     "metadata": {},
     "output_type": "execute_result"
    }
   ],
   "source": [
    "# Check missing values before KNN Imputer\n",
    "df.isnull().sum().sort_values(ascending=False)"
   ]
  },
  {
   "cell_type": "code",
   "execution_count": 35,
   "id": "e42233d3",
   "metadata": {},
   "outputs": [],
   "source": [
    "# Import KNN Imputer from sklearn\n",
    "from sklearn.impute import KNNImputer\n",
    "\n",
    "# Impute Age column using KNN Imputer\n",
    "imputer = KNNImputer(n_neighbors=5)  # Create KNN imputer object with 5 nearest neighbors\n",
    "df['Age'] = imputer.fit_transform(df[['Age']])"
   ]
  },
  {
   "cell_type": "code",
   "execution_count": 36,
   "id": "abaaf3a2",
   "metadata": {},
   "outputs": [
    {
     "data": {
      "text/plain": [
       "Cabin          687\n",
       "Embarked         2\n",
       "PassengerId      0\n",
       "Survived         0\n",
       "Pclass           0\n",
       "Name             0\n",
       "Sex              0\n",
       "Age              0\n",
       "SibSp            0\n",
       "Parch            0\n",
       "Ticket           0\n",
       "Fare             0\n",
       "dtype: int64"
      ]
     },
     "execution_count": 36,
     "metadata": {},
     "output_type": "execute_result"
    }
   ],
   "source": [
    "# Check missing values again after KNN Imputer\n",
    "df.isnull().sum().sort_values(ascending=False)"
   ]
  },
  {
   "cell_type": "markdown",
   "id": "143d79f1",
   "metadata": {},
   "source": [
    "### Method No:6\n",
    "#### Delete Missing Rows (data)"
   ]
  },
  {
   "cell_type": "code",
   "execution_count": 47,
   "id": "5c32699c",
   "metadata": {},
   "outputs": [],
   "source": [
    "# Load the dataset again to show deletion of missing values\n",
    "df = pd.read_csv('./dataset/titanic.csv')"
   ]
  },
  {
   "cell_type": "code",
   "execution_count": 48,
   "id": "d2d868b6",
   "metadata": {},
   "outputs": [
    {
     "data": {
      "text/plain": [
       "Cabin          687\n",
       "Age            177\n",
       "Embarked         2\n",
       "PassengerId      0\n",
       "Survived         0\n",
       "Pclass           0\n",
       "Name             0\n",
       "Sex              0\n",
       "SibSp            0\n",
       "Parch            0\n",
       "Ticket           0\n",
       "Fare             0\n",
       "dtype: int64"
      ]
     },
     "execution_count": 48,
     "metadata": {},
     "output_type": "execute_result"
    }
   ],
   "source": [
    "# Check missing values before deletion of missing values\n",
    "df.isnull().sum().sort_values(ascending=False)"
   ]
  },
  {
   "cell_type": "code",
   "execution_count": 49,
   "id": "9c9aa274",
   "metadata": {},
   "outputs": [],
   "source": [
    "# Drop rows with missing values\n",
    "df.dropna(inplace=True)"
   ]
  },
  {
   "cell_type": "code",
   "execution_count": 50,
   "id": "2bb02ea1",
   "metadata": {},
   "outputs": [
    {
     "data": {
      "text/plain": [
       "PassengerId    0\n",
       "Survived       0\n",
       "Pclass         0\n",
       "Name           0\n",
       "Sex            0\n",
       "Age            0\n",
       "SibSp          0\n",
       "Parch          0\n",
       "Ticket         0\n",
       "Fare           0\n",
       "Cabin          0\n",
       "Embarked       0\n",
       "dtype: int64"
      ]
     },
     "execution_count": 50,
     "metadata": {},
     "output_type": "execute_result"
    }
   ],
   "source": [
    "# Check missing values again after dropping rows with missing values\n",
    "df.isnull().sum().sort_values(ascending=False)"
   ]
  },
  {
   "cell_type": "code",
   "execution_count": null,
   "id": "e8bf365c",
   "metadata": {},
   "outputs": [
    {
     "name": "stdout",
     "output_type": "stream",
     "text": [
      "<class 'pandas.core.frame.DataFrame'>\n",
      "Index: 183 entries, 1 to 889\n",
      "Data columns (total 12 columns):\n",
      " #   Column       Non-Null Count  Dtype  \n",
      "---  ------       --------------  -----  \n",
      " 0   PassengerId  183 non-null    int64  \n",
      " 1   Survived     183 non-null    int64  \n",
      " 2   Pclass       183 non-null    int64  \n",
      " 3   Name         183 non-null    object \n",
      " 4   Sex          183 non-null    object \n",
      " 5   Age          183 non-null    float64\n",
      " 6   SibSp        183 non-null    int64  \n",
      " 7   Parch        183 non-null    int64  \n",
      " 8   Ticket       183 non-null    object \n",
      " 9   Fare         183 non-null    float64\n",
      " 10  Cabin        183 non-null    object \n",
      " 11  Embarked     183 non-null    object \n",
      "dtypes: float64(2), int64(5), object(5)\n",
      "memory usage: 18.6+ KB\n"
     ]
    }
   ],
   "source": [
    "# Check the info of the dataset after dropping rows with missing values\n",
    "df.info()"
   ]
  },
  {
   "cell_type": "markdown",
   "id": "08a1449b",
   "metadata": {},
   "source": [
    "Drop command has dropped the majority of missing data rows and our data has now 183 Rows/entries instead of 889, but this method is not right. Be careful about the deleting of missing values. "
   ]
  },
  {
   "cell_type": "markdown",
   "id": "078ccd97",
   "metadata": {},
   "source": [
    "#### Important Note:\n",
    "Imputation through Multivariate is best way to impute missing values. But keep in mind it is `experimental` by SKlearn.\n",
    "Use different other methods mentioned in this notebook. "
   ]
  },
  {
   "cell_type": "markdown",
   "id": "661a9ace",
   "metadata": {},
   "source": [
    "---"
   ]
  },
  {
   "cell_type": "markdown",
   "id": "0bcac8af",
   "metadata": {},
   "source": [
    "### Step-5: Encoding Categorical Variables"
   ]
  },
  {
   "cell_type": "code",
   "execution_count": 37,
   "id": "1f644510",
   "metadata": {},
   "outputs": [
    {
     "name": "stdout",
     "output_type": "stream",
     "text": [
      "<class 'pandas.core.frame.DataFrame'>\n",
      "RangeIndex: 891 entries, 0 to 890\n",
      "Data columns (total 12 columns):\n",
      " #   Column       Non-Null Count  Dtype  \n",
      "---  ------       --------------  -----  \n",
      " 0   PassengerId  891 non-null    int64  \n",
      " 1   Survived     891 non-null    int64  \n",
      " 2   Pclass       891 non-null    int64  \n",
      " 3   Name         891 non-null    object \n",
      " 4   Sex          891 non-null    object \n",
      " 5   Age          891 non-null    float64\n",
      " 6   SibSp        891 non-null    int64  \n",
      " 7   Parch        891 non-null    int64  \n",
      " 8   Ticket       891 non-null    object \n",
      " 9   Fare         891 non-null    float64\n",
      " 10  Cabin        204 non-null    object \n",
      " 11  Embarked     889 non-null    object \n",
      "dtypes: float64(2), int64(5), object(5)\n",
      "memory usage: 83.7+ KB\n"
     ]
    }
   ],
   "source": [
    "# Let's check the dataset to see categorical variables for encoding\n",
    "df.info()"
   ]
  },
  {
   "cell_type": "markdown",
   "id": "1ad5991a",
   "metadata": {},
   "source": [
    "We Encode two columns, `Sex` and `Embarked` by LabelEncoder"
   ]
  },
  {
   "cell_type": "code",
   "execution_count": 38,
   "id": "5bc55310",
   "metadata": {},
   "outputs": [],
   "source": [
    "# Encode categorical variables\n",
    "le = LabelEncoder()\n",
    "df['Sex'] = le.fit_transform(df['Sex'])\n",
    "df['Embarked'] = le.fit_transform(df['Embarked'])"
   ]
  },
  {
   "cell_type": "code",
   "execution_count": 39,
   "id": "857cd66e",
   "metadata": {},
   "outputs": [
    {
     "name": "stdout",
     "output_type": "stream",
     "text": [
      "   Sex  Embarked\n",
      "0    1         2\n",
      "1    0         0\n",
      "2    0         2\n",
      "3    0         2\n",
      "4    1         2\n"
     ]
    }
   ],
   "source": [
    "# Display the encoded columns\n",
    "encoded_columns = df[['Sex', 'Embarked']]\n",
    "print(encoded_columns.head())"
   ]
  },
  {
   "cell_type": "code",
   "execution_count": 40,
   "id": "7b78b13f",
   "metadata": {},
   "outputs": [
    {
     "data": {
      "text/html": [
       "<div>\n",
       "<style scoped>\n",
       "    .dataframe tbody tr th:only-of-type {\n",
       "        vertical-align: middle;\n",
       "    }\n",
       "\n",
       "    .dataframe tbody tr th {\n",
       "        vertical-align: top;\n",
       "    }\n",
       "\n",
       "    .dataframe thead th {\n",
       "        text-align: right;\n",
       "    }\n",
       "</style>\n",
       "<table border=\"1\" class=\"dataframe\">\n",
       "  <thead>\n",
       "    <tr style=\"text-align: right;\">\n",
       "      <th></th>\n",
       "      <th>PassengerId</th>\n",
       "      <th>Survived</th>\n",
       "      <th>Pclass</th>\n",
       "      <th>Name</th>\n",
       "      <th>Sex</th>\n",
       "      <th>Age</th>\n",
       "      <th>SibSp</th>\n",
       "      <th>Parch</th>\n",
       "      <th>Ticket</th>\n",
       "      <th>Fare</th>\n",
       "      <th>Cabin</th>\n",
       "      <th>Embarked</th>\n",
       "    </tr>\n",
       "  </thead>\n",
       "  <tbody>\n",
       "    <tr>\n",
       "      <th>0</th>\n",
       "      <td>1</td>\n",
       "      <td>0</td>\n",
       "      <td>3</td>\n",
       "      <td>Braund, Mr. Owen Harris</td>\n",
       "      <td>1</td>\n",
       "      <td>22.0</td>\n",
       "      <td>1</td>\n",
       "      <td>0</td>\n",
       "      <td>A/5 21171</td>\n",
       "      <td>7.2500</td>\n",
       "      <td>NaN</td>\n",
       "      <td>2</td>\n",
       "    </tr>\n",
       "    <tr>\n",
       "      <th>1</th>\n",
       "      <td>2</td>\n",
       "      <td>1</td>\n",
       "      <td>1</td>\n",
       "      <td>Cumings, Mrs. John Bradley (Florence Briggs Th...</td>\n",
       "      <td>0</td>\n",
       "      <td>38.0</td>\n",
       "      <td>1</td>\n",
       "      <td>0</td>\n",
       "      <td>PC 17599</td>\n",
       "      <td>71.2833</td>\n",
       "      <td>C85</td>\n",
       "      <td>0</td>\n",
       "    </tr>\n",
       "    <tr>\n",
       "      <th>2</th>\n",
       "      <td>3</td>\n",
       "      <td>1</td>\n",
       "      <td>3</td>\n",
       "      <td>Heikkinen, Miss. Laina</td>\n",
       "      <td>0</td>\n",
       "      <td>26.0</td>\n",
       "      <td>0</td>\n",
       "      <td>0</td>\n",
       "      <td>STON/O2. 3101282</td>\n",
       "      <td>7.9250</td>\n",
       "      <td>NaN</td>\n",
       "      <td>2</td>\n",
       "    </tr>\n",
       "    <tr>\n",
       "      <th>3</th>\n",
       "      <td>4</td>\n",
       "      <td>1</td>\n",
       "      <td>1</td>\n",
       "      <td>Futrelle, Mrs. Jacques Heath (Lily May Peel)</td>\n",
       "      <td>0</td>\n",
       "      <td>35.0</td>\n",
       "      <td>1</td>\n",
       "      <td>0</td>\n",
       "      <td>113803</td>\n",
       "      <td>53.1000</td>\n",
       "      <td>C123</td>\n",
       "      <td>2</td>\n",
       "    </tr>\n",
       "    <tr>\n",
       "      <th>4</th>\n",
       "      <td>5</td>\n",
       "      <td>0</td>\n",
       "      <td>3</td>\n",
       "      <td>Allen, Mr. William Henry</td>\n",
       "      <td>1</td>\n",
       "      <td>35.0</td>\n",
       "      <td>0</td>\n",
       "      <td>0</td>\n",
       "      <td>373450</td>\n",
       "      <td>8.0500</td>\n",
       "      <td>NaN</td>\n",
       "      <td>2</td>\n",
       "    </tr>\n",
       "  </tbody>\n",
       "</table>\n",
       "</div>"
      ],
      "text/plain": [
       "   PassengerId  Survived  Pclass  \\\n",
       "0            1         0       3   \n",
       "1            2         1       1   \n",
       "2            3         1       3   \n",
       "3            4         1       1   \n",
       "4            5         0       3   \n",
       "\n",
       "                                                Name  Sex   Age  SibSp  Parch  \\\n",
       "0                            Braund, Mr. Owen Harris    1  22.0      1      0   \n",
       "1  Cumings, Mrs. John Bradley (Florence Briggs Th...    0  38.0      1      0   \n",
       "2                             Heikkinen, Miss. Laina    0  26.0      0      0   \n",
       "3       Futrelle, Mrs. Jacques Heath (Lily May Peel)    0  35.0      1      0   \n",
       "4                           Allen, Mr. William Henry    1  35.0      0      0   \n",
       "\n",
       "             Ticket     Fare Cabin  Embarked  \n",
       "0         A/5 21171   7.2500   NaN         2  \n",
       "1          PC 17599  71.2833   C85         0  \n",
       "2  STON/O2. 3101282   7.9250   NaN         2  \n",
       "3            113803  53.1000  C123         2  \n",
       "4            373450   8.0500   NaN         2  "
      ]
     },
     "execution_count": 40,
     "metadata": {},
     "output_type": "execute_result"
    }
   ],
   "source": [
    "df.head()"
   ]
  },
  {
   "cell_type": "markdown",
   "id": "cadc0841",
   "metadata": {},
   "source": [
    "### Step-6: Checking Outliers"
   ]
  },
  {
   "cell_type": "markdown",
   "id": "9f17cac1",
   "metadata": {},
   "source": [
    "### Step-7 Scaling and Standardization\n",
    "We check the distribution of our data through visualization, We check this by visualizing simple `Histplot`"
   ]
  },
  {
   "cell_type": "code",
   "execution_count": 41,
   "id": "08a5a6a2",
   "metadata": {},
   "outputs": [
    {
     "data": {
      "image/png": "[encoded data removed]",
      "text/plain": [
       "<Figure size 2000x1000 with 4 Axes>"
      ]
     },
     "metadata": {},
     "output_type": "display_data"
    }
   ],
   "source": [
    "# Plot histogram for numerical columns\n",
    "numerical_cols = ['Age', 'Fare', 'SibSp', 'Parch']\n",
    "plt.figure(figsize=(20,10))\n",
    "\n",
    "for i, col in enumerate(numerical_cols):\n",
    "    plt.subplot(2,2,i+1)\n",
    "    sns.histplot(df[col], kde=True)\n",
    "    plt.title(f'Distribution of columns: {col}, fontsize=15)')\n",
    "    plt.xlabel(col, fontsize=12)\n",
    "    plt.ylabel('Frequency', fontsize=12)\n",
    "    plt.tight_layout()\n",
    "plt.show()"
   ]
  },
  {
   "cell_type": "markdown",
   "id": "6a583c9e",
   "metadata": {},
   "source": [
    "The distribution plots indicate that the numerical columns are not normally distributed. Therefore, we need to scale and potentially transform these numerical columns to better meet the assumptions of certain algorithms, such as linear regression or logistic regression, which may perform better with normally distributed data.\n",
    "\n"
   ]
  },
  {
   "cell_type": "markdown",
   "id": "8f269259",
   "metadata": {},
   "source": [
    "<b>`Scaling:`</b> Standardization (Z-score scaling) will center the data around the mean and scale it to unit variance but does not guarantee normality.\n",
    "\n"
   ]
  },
  {
   "cell_type": "code",
   "execution_count": 42,
   "id": "fe0676aa",
   "metadata": {},
   "outputs": [],
   "source": [
    "scalar = StandardScaler()\n",
    "df[numerical_cols] = scalar.fit_transform(df[numerical_cols])"
   ]
  },
  {
   "cell_type": "code",
   "execution_count": 43,
   "id": "f46a3639",
   "metadata": {},
   "outputs": [
    {
     "data": {
      "image/png": "[encoded data removed]",
      "text/plain": [
       "<Figure size 1200x800 with 4 Axes>"
      ]
     },
     "metadata": {},
     "output_type": "display_data"
    }
   ],
   "source": [
    "# Plot histograms for scaled numerical columns\n",
    "plt.figure(figsize=(12, 8))\n",
    "scaled_columns = ['Age', 'Fare', 'SibSp', 'Parch']\n",
    "\n",
    "for i, column in enumerate(scaled_columns, 1):\n",
    "    plt.subplot(2, 2, i)\n",
    "    sns.histplot(df[column], bins=30, kde=True)  # Add KDE for smoother curve\n",
    "    plt.title(f'Histogram of Scaled {column}')\n",
    "plt.tight_layout()\n",
    "plt.show()"
   ]
  },
  {
   "cell_type": "code",
   "execution_count": 44,
   "id": "ce378005",
   "metadata": {},
   "outputs": [
    {
     "data": {
      "image/png": "[encoded data removed]",
      "text/plain": [
       "<Figure size 1200x800 with 1 Axes>"
      ]
     },
     "metadata": {},
     "output_type": "display_data"
    }
   ],
   "source": [
    "# Define the numerical columns\n",
    "numerical_columns = ['Age', 'Fare', 'SibSp', 'Parch']\n",
    "\n",
    "# Create a box plot\n",
    "plt.figure(figsize=(12, 8))\n",
    "sns.boxplot(data=df[numerical_columns])\n",
    "plt.title('Box Plot of Numerical Columns')\n",
    "plt.xticks(rotation=45)\n",
    "plt.show()"
   ]
  },
  {
   "cell_type": "code",
   "execution_count": 45,
   "id": "82f9abd5",
   "metadata": {},
   "outputs": [
    {
     "name": "stdout",
     "output_type": "stream",
     "text": [
      "Age       66\n",
      "Fare     116\n",
      "SibSp     46\n",
      "Parch    213\n",
      "dtype: int64\n"
     ]
    }
   ],
   "source": [
    "# Calculate IQR for each numerical column\n",
    "Q1 = df[numerical_columns].quantile(0.25)\n",
    "Q3 = df[numerical_columns].quantile(0.75)\n",
    "IQR = Q3 - Q1\n",
    "\n",
    "# Identify outliers\n",
    "outliers = ((df[numerical_columns] < (Q1 - 1.5 * IQR)) | (df[numerical_columns] > (Q3 + 1.5 * IQR)))\n",
    "print(outliers.sum())"
   ]
  },
  {
   "cell_type": "markdown",
   "id": "2688caf9",
   "metadata": {},
   "source": [
    "## Outputs:\n",
    "1. There are 891 rows and 12 columns in titanic dataset\n",
    "\n",
    "2. The Titanic dataset contains:\n",
    "    * 2 float type columns\n",
    "    * 5 int type columns\n",
    "    * 5 object type columns\n",
    "3. There is zero or no duplicate value in the dataset\n",
    "4. There are three columns having missing values like:\n",
    "   1. Age: 177\n",
    "   2. Cabin: 687\n",
    "   3. Embarked: 2\n",
    "5. As `Cabin` col having large amount of missing values, so we decided to remove it because this col is not important as it shows only the Cabin numbers, so it will not effect on remaining our dataset.\n",
    "6. We imputed the `Embarked` col with mode as it is categorical col and impute `Age` col with median\n",
    "7. We created a `Heatmap` before and after imputing missing values to see the visualization if the dataset\n",
    "8. We encoded two categorical columns `Sex` and `Embarked` through LabelEncoder "
   ]
  }
 ],
 "metadata": {
  "kernelspec": {
   "display_name": "awfera_env",
   "language": "python",
   "name": "python3"
  },
  "language_info": {
   "codemirror_mode": {
    "name": "ipython",
    "version": 3
   },
   "file_extension": ".py",
   "mimetype": "text/x-python",
   "name": "python",
   "nbconvert_exporter": "python",
   "pygments_lexer": "ipython3",
   "version": "3.12.11"
  }
 },
 "nbformat": 4,
 "nbformat_minor": 5
}
